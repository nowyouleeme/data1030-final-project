{
 "cells": [
  {
   "cell_type": "markdown",
   "id": "1bfca6af-c8a7-4188-875a-1a52de253363",
   "metadata": {},
   "source": [
    "## Final Project (Midterm)\n",
    "\n",
    "## Name: Kathryn Lee\n",
    "\n",
    "## Link to your PS3 github repo: https://github.com/nowyouleeme/data1030-final-project\n",
    "\n",
    "## Roughly how much time did you spend on this assignment in hours? [TODO]\n",
    "\n",
    "Make sure you are in the DATA1030 environment:"
   ]
  },
  {
   "cell_type": "code",
   "execution_count": 9,
   "id": "e771d24b-f821-414c-800e-912b1cc620f0",
   "metadata": {},
   "outputs": [
    {
     "name": "stdout",
     "output_type": "stream",
     "text": [
      "\u001b[42m[ OK ]\u001b[0m Python version is 3.12.5\n",
      "\n",
      "\u001b[42m[ OK ]\u001b[0m numpy version 1.26.4 is installed.\n",
      "\u001b[42m[ OK ]\u001b[0m matplotlib version 3.9.2 is installed.\n",
      "\u001b[42m[ OK ]\u001b[0m sklearn version 1.5.1 is installed.\n",
      "\u001b[42m[ OK ]\u001b[0m pandas version 2.2.2 is installed.\n",
      "\u001b[42m[ OK ]\u001b[0m xgboost version 2.1.1 is installed.\n",
      "\u001b[42m[ OK ]\u001b[0m shap version 0.45.1 is installed.\n",
      "\u001b[42m[ OK ]\u001b[0m plotly version 5.23.0 is installed.\n"
     ]
    }
   ],
   "source": [
    "from __future__ import print_function\n",
    "from packaging.version import parse as Version\n",
    "from platform import python_version\n",
    "\n",
    "OK = '\\x1b[42m[ OK ]\\x1b[0m'\n",
    "FAIL = \"\\x1b[41m[FAIL]\\x1b[0m\"\n",
    "\n",
    "try:\n",
    "    import importlib\n",
    "except ImportError:\n",
    "    print(FAIL, \"Python version 3.12 is required,\"\n",
    "                \" but %s is installed.\" % sys.version)\n",
    "\n",
    "def import_version(pkg, min_ver, fail_msg=\"\"):\n",
    "    mod = None\n",
    "    try:\n",
    "        mod = importlib.import_module(pkg)\n",
    "        if pkg in {'PIL'}:\n",
    "            ver = mod.VERSION\n",
    "        else:\n",
    "            ver = mod.__version__\n",
    "        if Version(ver) == Version(min_ver):\n",
    "            print(OK, \"%s version %s is installed.\"\n",
    "                  % (lib, min_ver))\n",
    "        else:\n",
    "            print(FAIL, \"%s version %s is required, but %s installed.\"\n",
    "                  % (lib, min_ver, ver))    \n",
    "    except ImportError:\n",
    "        print(FAIL, '%s not installed. %s' % (pkg, fail_msg))\n",
    "    return mod\n",
    "\n",
    "\n",
    "# first check the python version\n",
    "pyversion = Version(python_version())\n",
    "\n",
    "if pyversion >= Version(\"3.12.5\"):\n",
    "    print(OK, \"Python version is %s\" % pyversion)\n",
    "elif pyversion < Version(\"3.12.5\"):\n",
    "    print(FAIL, \"Python version 3.12.5 is required,\"\n",
    "                \" but %s is installed.\" % pyversion)\n",
    "else:\n",
    "    print(FAIL, \"Unknown Python version: %s\" % pyversion)\n",
    "\n",
    "    \n",
    "print()\n",
    "requirements = {'numpy': \"1.26.4\", 'matplotlib': \"3.9.2\",'sklearn': \"1.5.1\", \n",
    "                'pandas': \"2.2.2\",'xgboost': \"2.1.1\", 'shap': \"0.45.1\", \n",
    "                'plotly': \"5.23.0\"}\n",
    "\n",
    "# now the dependencies\n",
    "for lib, required_version in list(requirements.items()):\n",
    "    import_version(lib, required_version)"
   ]
  },
  {
   "cell_type": "markdown",
   "id": "ae88571a-b1bf-4175-befc-257f3fb48d11",
   "metadata": {},
   "source": [
    "### Intro slide\n",
    "The intro slide should explain:"
   ]
  },
  {
   "cell_type": "markdown",
   "id": "ac5bfbff-fb32-4ea1-b802-ccf2a4ebf564",
   "metadata": {},
   "source": [
    "**Q1** What is the problem you want to solve? Based on this problem, are you dealing with iid or non-iid data? "
   ]
  },
  {
   "cell_type": "markdown",
   "id": "4d88516e-9ebc-4234-b8e2-27ef5ebac096",
   "metadata": {},
   "source": [
    "**Q2** Why is this important?"
   ]
  },
  {
   "cell_type": "markdown",
   "id": "0811bc45-7e97-46d0-86d2-0c85441d48f9",
   "metadata": {},
   "source": [
    "**Q3** Is this a regression or classification problem?"
   ]
  },
  {
   "cell_type": "markdown",
   "id": "4cfd9a2a-0e8b-4497-ac06-4169a96d73b0",
   "metadata": {},
   "source": [
    "**Q4** Where did you get the data from?"
   ]
  },
  {
   "cell_type": "markdown",
   "id": "b3433ddf-387d-4957-899e-e59c453f2584",
   "metadata": {},
   "source": [
    "**Q5** How was data the collected?"
   ]
  },
  {
   "cell_type": "markdown",
   "id": "c6ba85cd-630a-498c-b1dc-450db6aad131",
   "metadata": {},
   "source": [
    "### Read in the data\n",
    "\n",
    "The dataset is located in the `data` folder. \n",
    "\n",
    "First, read the data into a pandas data frame and display the data frame below. You might encounter error messages and other issues along the way. Please diagnose and resolve them. "
   ]
  },
  {
   "cell_type": "markdown",
   "id": "8cc1d3ce-8ce9-4a95-a282-179a8c58f6e1",
   "metadata": {},
   "source": [
    "### EDA\n",
    "\n",
    "Answer the following EDA related questions. \n",
    "\n",
    "The sequence of questions here are typical things to ask when you perform EDA on a new dataset. First, you always want to know how many data points and features you have, and whether they are continuous or categorical. You should then take a closer look at the target variable. We will study the properties of the features and the relationships between the features and the target variable in 2b."
   ]
  },
  {
   "cell_type": "markdown",
   "id": "9e3289f0-4f15-44d3-a854-95945defe613",
   "metadata": {},
   "source": [
    "**Q1** How many rows and columns do we have in the dataframe (how many datapoints and features are there)?"
   ]
  },
  {
   "cell_type": "markdown",
   "id": "f98cfd89-7ee5-4bbd-a460-6444156a0361",
   "metadata": {},
   "source": [
    "**Q2** What are the data types of the columns? Make sure that the output is not truncated and you see the type of each column."
   ]
  },
  {
   "cell_type": "markdown",
   "id": "2d7d1b1a-041c-4fca-be17-708e00288ec2",
   "metadata": {},
   "source": [
    "**Q3** Are there any imbalanced classes or missing values?"
   ]
  },
  {
   "cell_type": "markdown",
   "id": "1bd7c0c3-f110-4a84-b2b0-dd4174ce972f",
   "metadata": {},
   "source": [
    "**Q3** The ML target variable in this dataset is the ____. We will develop ML pipelines to predict this variable based on the other features.\n",
    "\n",
    "Is this column continuous or categorical? Please use .describe or .value_counts to take a quick look at this feature."
   ]
  },
  {
   "cell_type": "markdown",
   "id": "ada89073-4f38-4ed2-a953-0a123ab4fcec",
   "metadata": {},
   "source": [
    "**Q5** Visualize the target variable. Don't forget the axis labels and graph title. Make sure to use appropriate arguments to best display the data."
   ]
  },
  {
   "cell_type": "markdown",
   "id": "428fe22e-26ab-48e9-a23e-f90dc1bd3ba3",
   "metadata": {},
   "source": [
    "**Q6** Create as many figures you can to better understand your dataset and calculate summary statistics as well. Then, select three figures that you want to show during the presentation. \\\n",
    "Explain why you chose the figures! Why are they interesting, unexpected, important?"
   ]
  },
  {
   "cell_type": "markdown",
   "id": "91ef934f-5fbd-46e9-9dee-604c193c2083",
   "metadata": {},
   "source": [
    "### Split the data\n",
    "Splitting methods: \n",
    "1. iid data: basic split, K-fold Cross-Validation, stratified split, stratified K-fold\n",
    "2. non-iid data: GroupKFold, GroupShuffleSplit, TimeSeriesSplit"
   ]
  },
  {
   "cell_type": "markdown",
   "id": "614b3779-3f66-41d3-99a4-e73ea4be16bc",
   "metadata": {},
   "source": [
    "**Q1** How would you split this data and why?"
   ]
  },
  {
   "cell_type": "markdown",
   "id": "c99ea68c-1e60-43e7-ac9c-a752bf382780",
   "metadata": {},
   "source": [
    "**Q2** Split the dataset into training, validation, and test sets."
   ]
  },
  {
   "cell_type": "markdown",
   "id": "d90a832c-18a3-485d-98bc-8fdc25e17635",
   "metadata": {},
   "source": [
    "**Q3** Is your splitting method reproducible? How do you know? "
   ]
  },
  {
   "cell_type": "markdown",
   "id": "1cb2afab-dc54-4a8e-8a4a-89d5eedccc83",
   "metadata": {},
   "source": [
    "### Preprocess the data\n",
    "Preprocessing methods: \n",
    "1. OneHotEncoder - converts unordered categorical features into dummy arrays\n",
    "2. OrdinalEncoder - converts ordinal features into an integer array\n",
    "3. MinMaxScaler - scales continuous variables to be between 0 and 1\n",
    "4. StandardScaler - standardies continuous features by removing the mean and scaling to unit variance"
   ]
  },
  {
   "cell_type": "markdown",
   "id": "1b4732fb-6865-49fd-a98f-1e54c94ae8fb",
   "metadata": {},
   "source": [
    "**Q1** What preprocessors will you use and why?"
   ]
  },
  {
   "cell_type": "markdown",
   "id": "793010ef-6b06-4e96-b63b-3725b3d957e0",
   "metadata": {},
   "source": [
    "**Q2** Preprocess your data."
   ]
  },
  {
   "cell_type": "markdown",
   "id": "f4a9f2b6-3f58-4f5f-ae7d-832c7ea00f16",
   "metadata": {},
   "source": [
    "**Q3** How many features and data points do you have before and after preprocessing?"
   ]
  },
  {
   "cell_type": "markdown",
   "id": "39bb5074-70d8-4ff0-b0b7-7a6cbc2e7509",
   "metadata": {},
   "source": [
    "### Handling missing values\n",
    "If you have missing values, describe the basic properties of the missing values (e.g., what fraction of the points have missing values, which features, what fraction of the features are missing, etc)."
   ]
  }
 ],
 "metadata": {
  "kernelspec": {
   "display_name": "Python 3 (ipykernel)",
   "language": "python",
   "name": "python3"
  },
  "language_info": {
   "codemirror_mode": {
    "name": "ipython",
    "version": 3
   },
   "file_extension": ".py",
   "mimetype": "text/x-python",
   "name": "python",
   "nbconvert_exporter": "python",
   "pygments_lexer": "ipython3",
   "version": "3.12.5"
  }
 },
 "nbformat": 4,
 "nbformat_minor": 5
}
